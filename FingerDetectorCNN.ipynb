{
 "cells": [
  {
   "cell_type": "code",
   "execution_count": null,
   "id": "d9168f89",
   "metadata": {},
   "outputs": [],
   "source": [
    "import torch\n",
    "import numpy as np\n",
    "import os\n",
    "import cv2\n",
    "import pandas as pd\n",
    "import torch.nn as nn\n",
    "import torch.nn.functional as F\n",
    "import torch.optim as optim\n",
    "from torchvision import datasets,transforms\n",
    "from torch.utils.data import Dataset, DataLoader\n",
    "import pickle\n",
    "import pandas as pd\n",
    "import matplotlib.pyplot as plt"
   ]
  },
  {
   "cell_type": "code",
   "execution_count": null,
   "id": "2179e3d8",
   "metadata": {},
   "outputs": [],
   "source": [
    "class LazyLoadDataset(Dataset):\n",
    "    def __init__(self, path, training = True):\n",
    "        self.train = training\n",
    "        self.path = path + ('train/' if training else 'test/')\n",
    "        self.data = os.listdir(self.path + 'X/')\n",
    "    \n",
    "    def __getitem__(self, index):\n",
    "        mean = torch.Tensor([0.4851, 0.4623, 0.4356])\n",
    "        std = torch.Tensor([0.2195, 0.2181, 0.2339])\n",
    "        normalizer = transforms.Compose([transforms.ToTensor(), transforms.Normalize(mean, std),])\n",
    "        id = self.data[index]\n",
    "        a = normalizer(cv2.imread(self.path + 'X/' + id + '/rgb/0.png'))\n",
    "        b = normalizer(cv2.imread(self.path + 'X/' + id + '/rgb/1.png'))\n",
    "        c = normalizer(cv2.imread(self.path + 'X/' + id + '/rgb/2.png'))\n",
    "        \n",
    "        depth = np.load(self.path + 'X/' + id + '/depth.npy') / 1000\n",
    "        field_id = pickle.load(open(self.path + 'X/' + id + '/field_id.pkl', 'rb'))\n",
    "\n",
    "        if self.train:\n",
    "            Y = np.load(self.path + 'Y/' + id + '.npy')\n",
    "            return (a, b, c, depth, field_id), Y\n",
    "        else:\n",
    "            return (a, b, c, depth, field_id)\n",
    "        \n",
    "    def __len__(self):\n",
    "        return len(self.data)"
   ]
  },
  {
   "cell_type": "code",
   "execution_count": null,
   "id": "0d7a118c",
   "metadata": {},
   "outputs": [],
   "source": [
    "dataset = LazyLoadDataset('11/')\n",
    "train_loader = DataLoader(dataset, batch_size=32, shuffle=True)"
   ]
  },
  {
   "cell_type": "code",
   "execution_count": null,
   "id": "dff73632",
   "metadata": {},
   "outputs": [],
   "source": [
    "device = torch.device(\"cuda:0\" if torch.cuda.is_available() else \"cpu\")"
   ]
  },
  {
   "cell_type": "code",
   "execution_count": null,
   "id": "3d001166",
   "metadata": {},
   "outputs": [],
   "source": [
    "def train(epoch, model, optimizer):\n",
    "    \"\"\"\n",
    "    Train the model for one epoch\n",
    "\n",
    "    Args:\n",
    "        epoch (int): current epoch\n",
    "        model (nn.Module): model to train\n",
    "        optimizer (torch.optim): optimizer to use\n",
    "    \"\"\"\n",
    "    model.train()\n",
    "    for batch_idx, ((a, b, c, depth, id), target) in enumerate(train_loader):\n",
    "\n",
    "        data = torch.cat((a, b, c, depth), dim=1).to(device)\n",
    "        target = target.to(device)\n",
    "\n",
    "        optimizer.zero_grad()\n",
    "        output = model(data)\n",
    "        loss = nn.MSELoss()(output.float(), target.float())\n",
    "        loss.backward()\n",
    "        optimizer.step()\n",
    "        \n",
    "        if batch_idx % 10 == 0:\n",
    "            print('Train Epoch: {} [{}/{} ({:.0f}%)]\\tLoss: {:.6f}'.format(\n",
    "            epoch, batch_idx * len(data), len(train_loader.dataset),\n",
    "            100. * batch_idx / len(train_loader), loss.item()))\n",
    "\n"
   ]
  },
  {
   "cell_type": "code",
   "execution_count": null,
   "id": "ab356586",
   "metadata": {},
   "outputs": [],
   "source": [
    "#AlexNet\n",
    "class CNN(nn.Module):\n",
    "    def __init__(self, input_channels, conv_feature, fc_feature, output_size):\n",
    "        super(CNN, self).__init__()\n",
    "        self.conv1 = nn.Conv2d(input_channels, 72, kernel_size=11, stride=4, padding=2, groups=4)\n",
    "        self.conv2 = nn.Conv2d(72, 192, kernel_size=5, stride=2, padding=2, groups=4)\n",
    "        self.conv3 = nn.Conv2d(192, 384, kernel_size=3, padding=1, groups=4)\n",
    "        self.conv4 = nn.Conv2d(384, 256, kernel_size=3, padding=1, groups=4)\n",
    "        self.relu = nn.ReLU(inplace=True)\n",
    "        self.maxpool = nn.MaxPool2d(kernel_size=3, stride=2)\n",
    "        self.avgpool = nn.AdaptiveAvgPool2d((6, 6))\n",
    "        self.flatten = nn.Flatten()\n",
    "        self.dropout = nn.Dropout(p=0.5)\n",
    "        self.fc1 = nn.Linear(conv_feature * 6 * 6, fc_feature)\n",
    "        self.fc2 = nn.Linear(fc_feature, fc_feature)\n",
    "        self.fc3 = nn.Linear(fc_feature, output_size)\n",
    "        \n",
    "    def forward(self, x):\n",
    "        x = self.relu(self.conv1(x))\n",
    "        x = self.maxpool(x)\n",
    "        x = self.relu(self.conv2(x))\n",
    "        x = self.maxpool(x)\n",
    "        x = self.relu(self.conv3(x))\n",
    "        x = self.relu(self.conv4(x))\n",
    "        x = self.maxpool(x)\n",
    "        x = self.avgpool(x)\n",
    "        x = self.flatten(x)\n",
    "        x = self.dropout(x)\n",
    "        x = self.relu(self.fc1(x))\n",
    "        x = self.dropout(x)\n",
    "        x = self.relu(self.fc2(x))\n",
    "        x = self.fc3(x)\n",
    "        return x"
   ]
  },
  {
   "cell_type": "code",
   "execution_count": null,
   "id": "afc8b347",
   "metadata": {},
   "outputs": [],
   "source": [
    "in_channels=12\n",
    "conv_features = 256 # number of feature maps\n",
    "fc_features = 4096\n",
    "output_size = 12\n",
    "model_cnn = CNN(in_channels, conv_features,fc_features,output_size) # create CNN model\n",
    "model_cnn.to(device)\n",
    "optimizer = optim.Adam(model_cnn.parameters(), lr = 0.0001)\n",
    "\n",
    "test_accuracy = []\n",
    "for epoch in range(0, 20):\n",
    "    train(epoch, model_cnn, optimizer)\n"
   ]
  },
  {
   "cell_type": "code",
   "execution_count": null,
   "id": "6322be65",
   "metadata": {},
   "outputs": [],
   "source": [
    "test_dataset = LazyLoadDataset('11/', train = False, transform = transform_with_normalization)\n",
    "test_loader = DataLoader(test_dataset, batch_size=64 * 2, shuffle=True)\n",
    "def predict(model):\n",
    "    outfile = 'submission.csv'\n",
    "    output_file = open(outfile, 'w')\n",
    "    titles = ['ID', 'FINGER_POS_1', 'FINGER_POS_2', 'FINGER_POS_3', 'FINGER_POS_4', 'FINGER_POS_5', 'FINGER_POS_6',\n",
    "         'FINGER_POS_7', 'FINGER_POS_8', 'FINGER_POS_9', 'FINGER_POS_10', 'FINGER_POS_11', 'FINGER_POS_12']\n",
    "    \n",
    "    model.eval()\n",
    "    pred = []\n",
    "    file_ids = []\n",
    "\n",
    "    for i, ((img0, img1, img2, depth, field_id)) in enumerate(test_loader):\n",
    "        data = torch.cat((img0, img1, img2, depth), dim=1).to(device)\n",
    "        output = model(data)\n",
    "        pred.append(output.cpu().detach().numpy())\n",
    "        file_ids.extend(field_id)\n",
    "    \n",
    "    pred = np.concatenate(pred) / 1000.0\n",
    "\n",
    "    df = pd.concat([pd.DataFrame(file_ids), pd.DataFrame.from_records(pred)], axis = 1, names = titles)\n",
    "    df.columns = titles\n",
    "    df.to_csv(outfile, index = False)\n",
    "    print(\"Written to csv file {}\".format(outfile))\n",
    "predict(model_cnn)"
   ]
  },
  {
   "cell_type": "code",
   "execution_count": null,
   "id": "cff3f39a",
   "metadata": {},
   "outputs": [],
   "source": []
  }
 ],
 "metadata": {
  "kernelspec": {
   "display_name": "base",
   "language": "python",
   "name": "python3"
  },
  "language_info": {
   "codemirror_mode": {
    "name": "ipython",
    "version": 3
   },
   "file_extension": ".py",
   "mimetype": "text/x-python",
   "name": "python",
   "nbconvert_exporter": "python",
   "pygments_lexer": "ipython3",
   "version": "3.9.12"
  },
  "vscode": {
   "interpreter": {
    "hash": "62ffadaadc82c6c14935d78527cc4f4f47a9822f9301c3ad926c0c423aa5c16c"
   }
  }
 },
 "nbformat": 4,
 "nbformat_minor": 5
}
